{
 "cells": [
  {
   "cell_type": "code",
   "execution_count": 1,
   "metadata": {},
   "outputs": [],
   "source": [
    "%matplotlib inline\n",
    "import matplotlib.pyplot as plt\n",
    "import tensorflow as tf\n",
    "import numpy as np\n",
    "import os\n",
    "\n",
    "from tensorflow.contrib.tensorboard.plugins import projector\n",
    "#from tensorflow.examples.tutorials.mnist import input_data\n",
    "\n",
    "LOG_DIR = 'clarifaisample'\n",
    "NAME_TO_VISUALISE_VARIABLE = \"clarifaiembedding\"\n",
    "#TO_EMBED_COUNT = 607  # Original code had 500, but there is a mismatch here with the sprite data for some reason\n",
    "\n",
    "path_for_clarifai_sprites =  os.path.join(LOG_DIR,'clarifai.png')\n",
    "path_for_clarifai_metadata =  os.path.join(LOG_DIR,'clarifai.tsv')"
   ]
  },
  {
   "cell_type": "code",
   "execution_count": 25,
   "metadata": {},
   "outputs": [
    {
     "name": "stdout",
     "output_type": "stream",
     "text": [
      "213\n"
     ]
    },
    {
     "data": {
      "text/plain": [
       "(numpy.ndarray, numpy.ndarray, (213, 1024), (1024,))"
      ]
     },
     "execution_count": 25,
     "metadata": {},
     "output_type": "execute_result"
    }
   ],
   "source": [
    "# load embeddings.txt as ndarray of ndarrays...\n",
    "import json\n",
    "embeddings_file = \"../embeddings.txt\"\n",
    "f = open(embeddings_file)\n",
    "lines = f.readlines()\n",
    "f.close()\n",
    "print(len(lines))\n",
    "arrays = []\n",
    "for ln in lines:\n",
    "    ln = '['+ln.strip()+']'\n",
    "    arr = json.loads(ln)\n",
    "    _narr = np.array(arr)\n",
    "    arrays.append(_narr)\n",
    "#print(len(arrays))\n",
    "_narrays = np.array(arrays)\n",
    "type(_narrays), type(_narrays[0]), _narrays.shape, _narrays[0].shape\n",
    "#mnist = input_data.read_data_sets(\"MNIST_data/\", one_hot=False)\n",
    "#batch_xs, batch_ys = mnist.train.next_batch(TO_EMBED_COUNT)\n",
    "#batch_xs.size, batch_ys.size"
   ]
  },
  {
   "cell_type": "code",
   "execution_count": 26,
   "metadata": {},
   "outputs": [],
   "source": [
    "embedding_var = tf.Variable(_narrays, name=NAME_TO_VISUALISE_VARIABLE)\n",
    "summary_writer = tf.summary.FileWriter(LOG_DIR)\n"
   ]
  },
  {
   "cell_type": "code",
   "execution_count": 28,
   "metadata": {},
   "outputs": [],
   "source": [
    "config = projector.ProjectorConfig()\n",
    "embedding = config.embeddings.add()\n",
    "embedding.tensor_name = embedding_var.name\n",
    "\n",
    "# Specify where you find the metadata\n",
    "embedding.metadata_path = path_for_clarifai_metadata #'metadata.tsv'\n",
    "\n",
    "# Specify where you find the sprite (we will create this later)\n",
    "#embedding.sprite.image_path = path_for_mnist_sprites #'mnistdigits.png'\n",
    "#embedding.sprite.single_image_dim.extend([28,28])\n",
    "\n",
    "# Say that you want to visualise the embeddings\n",
    "projector.visualize_embeddings(summary_writer, config)"
   ]
  },
  {
   "cell_type": "code",
   "execution_count": 29,
   "metadata": {},
   "outputs": [
    {
     "data": {
      "text/plain": [
       "'clarifaisample/model.ckpt-1'"
      ]
     },
     "execution_count": 29,
     "metadata": {},
     "output_type": "execute_result"
    }
   ],
   "source": [
    "sess = tf.InteractiveSession()\n",
    "sess.run(tf.global_variables_initializer())\n",
    "saver = tf.train.Saver()\n",
    "saver.save(sess, os.path.join(LOG_DIR, \"model.ckpt\"), 1)"
   ]
  },
  {
   "cell_type": "code",
   "execution_count": 30,
   "metadata": {},
   "outputs": [
    {
     "name": "stdout",
     "output_type": "stream",
     "text": [
      "[0, 0, 0, 0, 1, 2, 3, 2, 4, 5, 6, 2, 7, 8, 9, 10, 11, 12, 10, 10, 11, 13, 12, 14, 10, 2, 15, 2, 16, 17, 18, 19, 20, 21, 10, 22, 22, 22, 22, 22, 22, 17, 17, 23, 22, 22, 22, 24, 24, 25, 26, 25, 23, 25, 27, 25, 27, 28, 27, 27, 28, 25, 25, 24, 23, 24, 28, 23, 24, 25, 23, 25, 27, 24, 27, 25, 27, 25, 29, 26, 30, 24, 25, 27, 25, 27, 27, 26, 27, 29, 31, 27, 25, 27, 24, 25, 27, 27, 23, 29, 25, 27, 27, 29, 27, 24, 25, 25, 25, 28, 25, 24, 25, 23, 25, 28, 28, 26, 27, 25, 25, 24, 25, 29, 28, 27, 25, 24, 25, 25, 28, 32, 25, 29, 25, 25, 25, 25, 25, 28, 25, 25, 25, 25, 25, 25, 25, 25, 23, 28, 33, 24, 25, 25, 25, 25, 25, 25, 27, 34, 25, 25, 25, 25, 25, 25, 27, 25, 28, 25, 28, 25, 27, 25, 25, 27, 25, 25, 28, 25, 25, 35, 25, 25, 25, 25, 35, 25, 25, 35, 25, 24, 27, 34, 27, 24, 24, 25, 35, 25, 34, 25, 34, 29, 25, 25, 36, 25, 27, 25, 35, 33, 25]\n"
     ]
    }
   ],
   "source": [
    "# load the labels file\n",
    "f = open(\"../labels.txt\")\n",
    "lines = f.readlines()\n",
    "f.close()\n",
    "lbls = []\n",
    "for ln in lines:\n",
    "    lbl = json.loads( ln.strip() )\n",
    "    lbls.append(lbl)\n",
    "print(lbls)"
   ]
  },
  {
   "cell_type": "code",
   "execution_count": 31,
   "metadata": {},
   "outputs": [],
   "source": [
    "with open(path_for_clarifai_metadata,'w') as f:\n",
    "    f.write(\"Index\\tLabel\\n\")\n",
    "    for index,label in enumerate(lbls):\n",
    "        f.write(\"%d\\t%d\\n\" % (index,label))"
   ]
  },
  {
   "cell_type": "code",
   "execution_count": 32,
   "metadata": {},
   "outputs": [],
   "source": [
    "# Now go to a terminal and cd to where this notebook file lives and type\n",
    "# >> tensorboard --logdir clarifaisample/ --port 6008\n",
    "\n",
    "# Click on the embeddings tab and choose TSNE"
   ]
  },
  {
   "cell_type": "code",
   "execution_count": null,
   "metadata": {},
   "outputs": [],
   "source": []
  }
 ],
 "metadata": {
  "kernelspec": {
   "display_name": "Python 3",
   "language": "python",
   "name": "python3"
  },
  "language_info": {
   "codemirror_mode": {
    "name": "ipython",
    "version": 3
   },
   "file_extension": ".py",
   "mimetype": "text/x-python",
   "name": "python",
   "nbconvert_exporter": "python",
   "pygments_lexer": "ipython3",
   "version": "3.6.6"
  }
 },
 "nbformat": 4,
 "nbformat_minor": 2
}
